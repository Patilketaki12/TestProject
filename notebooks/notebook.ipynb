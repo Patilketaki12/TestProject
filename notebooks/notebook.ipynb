{
 "cells": [
  {
   "cell_type": "code",
   "execution_count": null,
   "id": "c3bb2764",
   "metadata": {},
   "outputs": [],
   "source": [
    "def  add(a,b):\n",
    "    return a+b\n",
    "\n",
    "def  sub(a,b):\n",
    "    return a-b\n",
    "\n",
    "def  mul(a,b):\n",
    "    return a*b\n",
    "\n",
    "def  divide(a,b):\n",
    "    if b!=0:\n",
    "        return a/b\n"
   ]
  },
  {
   "cell_type": "code",
   "execution_count": 2,
   "id": "98f1a610",
   "metadata": {},
   "outputs": [
    {
     "data": {
      "text/plain": [
       "10"
      ]
     },
     "execution_count": 2,
     "metadata": {},
     "output_type": "execute_result"
    }
   ],
   "source": [
    "add(3,7)"
   ]
  }
 ],
 "metadata": {
  "kernelspec": {
   "display_name": ".venv",
   "language": "python",
   "name": "python3"
  },
  "language_info": {
   "codemirror_mode": {
    "name": "ipython",
    "version": 3
   },
   "file_extension": ".py",
   "mimetype": "text/x-python",
   "name": "python",
   "nbconvert_exporter": "python",
   "pygments_lexer": "ipython3",
   "version": "3.13.2"
  }
 },
 "nbformat": 4,
 "nbformat_minor": 5
}
